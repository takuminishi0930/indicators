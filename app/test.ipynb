{
 "cells": [
  {
   "cell_type": "code",
   "execution_count": 1,
   "id": "c0c6aa52",
   "metadata": {},
   "outputs": [],
   "source": [
    "import pandas as pd\n",
    "import math\n",
    "from dateutil.relativedelta import relativedelta"
   ]
  },
  {
   "cell_type": "code",
   "execution_count": 2,
   "id": "e70ea99f",
   "metadata": {},
   "outputs": [
    {
     "data": {
      "text/plain": [
       "'2022-04'"
      ]
     },
     "execution_count": 2,
     "metadata": {},
     "output_type": "execute_result"
    }
   ],
   "source": [
    "import datetime\n",
    "twoDaysAgo = datetime.date.today()-datetime.timedelta(days=2)\n",
    "twoDaysAgo.strftime('%Y-%m')"
   ]
  },
  {
   "cell_type": "code",
   "execution_count": 4,
   "id": "327c1698",
   "metadata": {},
   "outputs": [],
   "source": [
    "from function import *"
   ]
  },
  {
   "cell_type": "code",
   "execution_count": 5,
   "id": "eb41d49b",
   "metadata": {},
   "outputs": [],
   "source": [
    "today = datetime.date.today()"
   ]
  },
  {
   "cell_type": "code",
   "execution_count": 6,
   "id": "dcb67420",
   "metadata": {
    "scrolled": true
   },
   "outputs": [
    {
     "data": {
      "text/plain": [
       "datetime.date(2022, 4, 25)"
      ]
     },
     "execution_count": 6,
     "metadata": {},
     "output_type": "execute_result"
    }
   ],
   "source": [
    "today"
   ]
  },
  {
   "cell_type": "code",
   "execution_count": 25,
   "id": "a3d86953",
   "metadata": {
    "scrolled": true
   },
   "outputs": [],
   "source": [
    "import os\n",
    "latestDay=0\n",
    "for i in os.listdir(\"./static/csv\"):\n",
    "    date = os.path.splitext(os.path.basename(i))[0]\n",
    "    if latestDay==0 or latestDay<date:\n",
    "        latestDay = date"
   ]
  },
  {
   "cell_type": "code",
   "execution_count": 29,
   "id": "096482c4",
   "metadata": {},
   "outputs": [],
   "source": [
    "csv = pd.read_csv(\"static/csv/{}.csv\".format(latestDay),index_col=0)"
   ]
  },
  {
   "cell_type": "code",
   "execution_count": 37,
   "id": "c986411e",
   "metadata": {},
   "outputs": [
    {
     "data": {
      "text/plain": [
       "Index(['2022-03-01'], dtype='object', name='日付')"
      ]
     },
     "execution_count": 37,
     "metadata": {},
     "output_type": "execute_result"
    }
   ],
   "source": [
    "csv.index"
   ]
  },
  {
   "cell_type": "code",
   "execution_count": 40,
   "id": "a96d9c85",
   "metadata": {},
   "outputs": [
    {
     "data": {
      "text/plain": [
       "'2022-02-28'"
      ]
     },
     "execution_count": 40,
     "metadata": {},
     "output_type": "execute_result"
    }
   ],
   "source": [
    "csv = pd.read_csv(\"static/csv/2022-02.csv\",index_col=0)\n",
    "csv.index\n",
    "latestDay=0\n",
    "for i in csv.index:\n",
    "    if latestDay==0 or latestDay<i:\n",
    "        latestDay=i\n",
    "latestDay"
   ]
  },
  {
   "cell_type": "code",
   "execution_count": 82,
   "id": "d163ee5e",
   "metadata": {},
   "outputs": [],
   "source": [
    "import os\n",
    "latestDay=0\n",
    "for i in os.listdir(\"./static/csv\"):\n",
    "    date = os.path.splitext(os.path.basename(i))[0]\n",
    "    if latestDay==0 or latestDay<date:\n",
    "        latestDay = date\n",
    "csv = pd.read_csv(\"static/csv/{}.csv\".format(latestDay),index_col=0)\n",
    "csv.index\n",
    "latestDay=0\n",
    "for i in csv.index:\n",
    "    if latestDay==0 or latestDay<i:\n",
    "        latestDay=i\n",
    "latestDay = datetime.datetime.strptime(latestDay, '%Y-%m-%d').date()"
   ]
  },
  {
   "cell_type": "code",
   "execution_count": 84,
   "id": "b1b8e952",
   "metadata": {},
   "outputs": [
    {
     "name": "stdout",
     "output_type": "stream",
     "text": [
      "2022-04-20\n"
     ]
    },
    {
     "data": {
      "text/plain": [
       "datetime.date(2022, 3, 1)"
      ]
     },
     "execution_count": 84,
     "metadata": {},
     "output_type": "execute_result"
    }
   ],
   "source": [
    "fiveDaysAgo = datetime.date.today()-datetime.timedelta(days=5)\n",
    "print(fiveDaysAgo)\n",
    "latestDay"
   ]
  },
  {
   "cell_type": "code",
   "execution_count": 94,
   "id": "c6a98d60",
   "metadata": {},
   "outputs": [],
   "source": [
    "def GetIndicator(url,fromRight,dateFormat,date):\n",
    "    tempIndicator = BeautifulSoup(requests.get(url,headers=headers).text,'html5lib')('td')\n",
    "    tempIndex = ''\n",
    "    for index,i in enumerate(tempIndicator):\n",
    "        if date.strftime(dateFormat)==i.get_text():\n",
    "            tempIndex = index\n",
    "            break\n",
    "    if tempIndex!='':\n",
    "        return tempIndicator[tempIndex+fromRight].get_text()\n",
    "    else:\n",
    "        return ''"
   ]
  },
  {
   "cell_type": "code",
   "execution_count": 91,
   "id": "d539c88b",
   "metadata": {
    "scrolled": true
   },
   "outputs": [
    {
     "data": {
      "text/plain": [
       "[datetime.date(2022, 4, 20),\n",
       " datetime.date(2022, 4, 19),\n",
       " datetime.date(2022, 4, 18),\n",
       " datetime.date(2022, 4, 17),\n",
       " datetime.date(2022, 4, 16),\n",
       " datetime.date(2022, 4, 15),\n",
       " datetime.date(2022, 4, 14),\n",
       " datetime.date(2022, 4, 13),\n",
       " datetime.date(2022, 4, 12),\n",
       " datetime.date(2022, 4, 11),\n",
       " datetime.date(2022, 4, 10),\n",
       " datetime.date(2022, 4, 9),\n",
       " datetime.date(2022, 4, 8),\n",
       " datetime.date(2022, 4, 7),\n",
       " datetime.date(2022, 4, 6),\n",
       " datetime.date(2022, 4, 5),\n",
       " datetime.date(2022, 4, 4),\n",
       " datetime.date(2022, 4, 3),\n",
       " datetime.date(2022, 4, 2),\n",
       " datetime.date(2022, 4, 1),\n",
       " datetime.date(2022, 3, 31),\n",
       " datetime.date(2022, 3, 30),\n",
       " datetime.date(2022, 3, 29),\n",
       " datetime.date(2022, 3, 28),\n",
       " datetime.date(2022, 3, 27),\n",
       " datetime.date(2022, 3, 26),\n",
       " datetime.date(2022, 3, 25),\n",
       " datetime.date(2022, 3, 24),\n",
       " datetime.date(2022, 3, 23),\n",
       " datetime.date(2022, 3, 22),\n",
       " datetime.date(2022, 3, 21),\n",
       " datetime.date(2022, 3, 20),\n",
       " datetime.date(2022, 3, 19),\n",
       " datetime.date(2022, 3, 18),\n",
       " datetime.date(2022, 3, 17),\n",
       " datetime.date(2022, 3, 16),\n",
       " datetime.date(2022, 3, 15),\n",
       " datetime.date(2022, 3, 14),\n",
       " datetime.date(2022, 3, 13),\n",
       " datetime.date(2022, 3, 12),\n",
       " datetime.date(2022, 3, 11),\n",
       " datetime.date(2022, 3, 10),\n",
       " datetime.date(2022, 3, 9),\n",
       " datetime.date(2022, 3, 8),\n",
       " datetime.date(2022, 3, 7),\n",
       " datetime.date(2022, 3, 6),\n",
       " datetime.date(2022, 3, 5),\n",
       " datetime.date(2022, 3, 4),\n",
       " datetime.date(2022, 3, 3),\n",
       " datetime.date(2022, 3, 2)]"
      ]
     },
     "execution_count": 91,
     "metadata": {},
     "output_type": "execute_result"
    }
   ],
   "source": [
    "searchDay=[]\n",
    "date = fiveDaysAgo\n",
    "while date>latestDay:\n",
    "    searchDay.append(date)\n",
    "    date = date-datetime.timedelta(days=1)\n",
    "searchDay"
   ]
  },
  {
   "cell_type": "code",
   "execution_count": 99,
   "id": "fb0e247f",
   "metadata": {},
   "outputs": [
    {
     "name": "stdout",
     "output_type": "stream",
     "text": [
      "2022-04-20 638.0\n",
      "2022-04-19 622.0\n",
      "2022-04-18 617.0\n",
      "2022-04-17 \n",
      "2022-04-16 \n",
      "2022-04-15 611.0\n",
      "2022-04-14 606.0\n",
      "2022-04-13 604.0\n",
      "2022-04-12 595.0\n",
      "2022-04-11 593.0\n",
      "2022-04-10 \n",
      "2022-04-09 \n",
      "2022-04-08 583.0\n",
      "2022-04-07 582.0\n",
      "2022-04-06 582.0\n",
      "2022-04-05 590.0\n",
      "2022-04-04 594.0\n",
      "2022-04-03 \n",
      "2022-04-02 \n",
      "2022-04-01 598.0\n",
      "2022-03-31 600.0\n",
      "2022-03-30 618.0\n",
      "2022-03-29 638.0\n",
      "2022-03-28 644.0\n",
      "2022-03-27 \n",
      "2022-03-26 \n",
      "2022-03-25 \n",
      "2022-03-24 \n",
      "2022-03-23 \n",
      "2022-03-22 \n",
      "2022-03-21 \n",
      "2022-03-20 \n",
      "2022-03-19 \n",
      "2022-03-18 \n",
      "2022-03-17 \n",
      "2022-03-16 \n",
      "2022-03-15 \n",
      "2022-03-14 \n",
      "2022-03-13 \n",
      "2022-03-12 \n",
      "2022-03-11 \n",
      "2022-03-10 \n",
      "2022-03-09 \n",
      "2022-03-08 \n",
      "2022-03-07 \n",
      "2022-03-06 \n",
      "2022-03-05 \n",
      "2022-03-04 \n",
      "2022-03-03 \n",
      "2022-03-02 \n"
     ]
    }
   ],
   "source": [
    "for i in searchDay:\n",
    "    iyoginStockAverage = GetIndicator('https://s.minkabu.jp/stock/8385/daily_bar',4,'%Y/%m/%d',i)\n",
    "    print(i,iyoginStockAverage)"
   ]
  },
  {
   "cell_type": "code",
   "execution_count": null,
   "id": "b45b2950",
   "metadata": {},
   "outputs": [],
   "source": []
  }
 ],
 "metadata": {
  "kernelspec": {
   "display_name": "Python 3 (ipykernel)",
   "language": "python",
   "name": "python3"
  },
  "language_info": {
   "codemirror_mode": {
    "name": "ipython",
    "version": 3
   },
   "file_extension": ".py",
   "mimetype": "text/x-python",
   "name": "python",
   "nbconvert_exporter": "python",
   "pygments_lexer": "ipython3",
   "version": "3.8.10"
  }
 },
 "nbformat": 4,
 "nbformat_minor": 5
}
