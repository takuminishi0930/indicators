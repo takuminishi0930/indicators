{
 "cells": [
  {
   "cell_type": "code",
   "execution_count": 1,
   "id": "c0c6aa52",
   "metadata": {},
   "outputs": [],
   "source": [
    "import pandas as pd\n",
    "import math\n",
    "from dateutil.relativedelta import relativedelta"
   ]
  },
  {
   "cell_type": "code",
   "execution_count": 2,
   "id": "e70ea99f",
   "metadata": {},
   "outputs": [
    {
     "data": {
      "text/plain": [
       "'2022-04'"
      ]
     },
     "execution_count": 2,
     "metadata": {},
     "output_type": "execute_result"
    }
   ],
   "source": [
    "import datetime\n",
    "twoDaysAgo = datetime.date.today()-datetime.timedelta(days=2)\n",
    "twoDaysAgo.strftime('%Y-%m')"
   ]
  },
  {
   "cell_type": "code",
   "execution_count": 4,
   "id": "327c1698",
   "metadata": {},
   "outputs": [],
   "source": [
    "from function import *"
   ]
  },
  {
   "cell_type": "code",
   "execution_count": 5,
   "id": "eb41d49b",
   "metadata": {},
   "outputs": [],
   "source": [
    "today = datetime.date.today()"
   ]
  },
  {
   "cell_type": "code",
   "execution_count": 6,
   "id": "d2047739",
   "metadata": {
    "scrolled": true
   },
   "outputs": [
    {
     "data": {
      "text/plain": [
       "datetime.date(2022, 4, 25)"
      ]
     },
     "execution_count": 6,
     "metadata": {},
     "output_type": "execute_result"
    }
   ],
   "source": [
    "today"
   ]
  },
  {
   "cell_type": "code",
   "execution_count": 25,
   "id": "a351ccfa",
   "metadata": {
    "scrolled": true
   },
   "outputs": [],
   "source": [
    "import os\n",
    "latestDay=0\n",
    "for i in os.listdir(\"./static/csv\"):\n",
    "    date = os.path.splitext(os.path.basename(i))[0]\n",
    "    if latestDay==0 or latestDay<date:\n",
    "        latestDay = date"
   ]
  },
  {
   "cell_type": "code",
   "execution_count": 29,
   "id": "4fafaa89",
   "metadata": {},
   "outputs": [],
   "source": [
    "csv = pd.read_csv(\"static/csv/{}.csv\".format(latestDay),index_col=0)"
   ]
  },
  {
   "cell_type": "code",
   "execution_count": 37,
   "id": "88f25845",
   "metadata": {},
   "outputs": [
    {
     "data": {
      "text/plain": [
       "Index(['2022-03-01'], dtype='object', name='日付')"
      ]
     },
     "execution_count": 37,
     "metadata": {},
     "output_type": "execute_result"
    }
   ],
   "source": [
    "csv.index"
   ]
  },
  {
   "cell_type": "code",
   "execution_count": 40,
   "id": "2d86dc5d",
   "metadata": {},
   "outputs": [
    {
     "data": {
      "text/plain": [
       "'2022-02-28'"
      ]
     },
     "execution_count": 40,
     "metadata": {},
     "output_type": "execute_result"
    }
   ],
   "source": [
    "csv = pd.read_csv(\"static/csv/2022-02.csv\",index_col=0)\n",
    "csv.index\n",
    "latestDay=0\n",
    "for i in csv.index:\n",
    "    if latestDay==0 or latestDay<i:\n",
    "        latestDay=i\n",
    "latestDay"
   ]
  },
  {
   "cell_type": "code",
   "execution_count": 42,
   "id": "37a2f4e7",
   "metadata": {},
   "outputs": [
    {
     "data": {
      "text/plain": [
       "'2022-03-01'"
      ]
     },
     "execution_count": 42,
     "metadata": {},
     "output_type": "execute_result"
    }
   ],
   "source": [
    "import os\n",
    "latestDay=0\n",
    "for i in os.listdir(\"./static/csv\"):\n",
    "    date = os.path.splitext(os.path.basename(i))[0]\n",
    "    if latestDay==0 or latestDay<date:\n",
    "        latestDay = date\n",
    "csv = pd.read_csv(\"static/csv/{}.csv\".format(latestDay),index_col=0)\n",
    "csv.index\n",
    "latestDay=0\n",
    "for i in csv.index:\n",
    "    if latestDay==0 or latestDay<i:\n",
    "        latestDay=i\n",
    "latestDay"
   ]
  },
  {
   "cell_type": "code",
   "execution_count": 44,
   "id": "a6bec22b",
   "metadata": {},
   "outputs": [
    {
     "data": {
      "text/plain": [
       "datetime.date(2022, 4, 20)"
      ]
     },
     "execution_count": 44,
     "metadata": {},
     "output_type": "execute_result"
    }
   ],
   "source": [
    "fiveDaysAgo = datetime.date.today()-datetime.timedelta(days=5)\n",
    "fiveDaysAgo"
   ]
  },
  {
   "cell_type": "code",
   "execution_count": 63,
   "id": "1ce70ce0",
   "metadata": {},
   "outputs": [],
   "source": [
    "def GetIndicator(url,fromRight,dateFormat,date):\n",
    "    tempIndicator = BeautifulSoup(requests.get(url,headers=headers).text,'html5lib')('td')\n",
    "    tempIndex = ''\n",
    "    for index,i in enumerate(tempIndicator):\n",
    "        if date.strftime(dateFormat)==i.get_text():\n",
    "            tempIndex = index\n",
    "            break\n",
    "    if tempIndex!='':\n",
    "        return tempIndicator[tempIndex+fromRight].get_text()\n",
    "    else:\n",
    "        return ''"
   ]
  },
  {
   "cell_type": "code",
   "execution_count": 66,
   "id": "3c65f204",
   "metadata": {},
   "outputs": [
    {
     "name": "stdout",
     "output_type": "stream",
     "text": [
      "2022/04/22\n",
      "632.0\n",
      "637.0\n",
      "628.0\n",
      "635.0\n",
      "635.0\n",
      "537,400\n",
      "2022/04/21\n",
      "645.0\n",
      "649.0\n",
      "632.0\n",
      "636.0\n",
      "636.0\n",
      "778,500\n",
      "2022/04/20\n",
      "630.0\n",
      "639.0\n",
      "628.0\n",
      "638.0\n",
      "638.0\n",
      "786,400\n",
      "2022/04/19\n",
      "627.0\n",
      "628.0\n",
      "619.0\n",
      "622.0\n",
      "622.0\n",
      "529,700\n",
      "2022/04/18\n",
      "613.0\n",
      "619.0\n",
      "611.0\n",
      "617.0\n",
      "617.0\n",
      "574,700\n",
      "2022/04/15\n",
      "607.0\n",
      "613.0\n",
      "605.0\n",
      "611.0\n",
      "611.0\n",
      "362,700\n",
      "2022/04/14\n",
      "600.0\n",
      "609.0\n",
      "597.0\n",
      "606.0\n",
      "606.0\n",
      "269,100\n",
      "2022/04/13\n",
      "593.0\n",
      "605.0\n",
      "591.0\n",
      "604.0\n",
      "604.0\n",
      "598,100\n",
      "2022/04/12\n",
      "597.0\n",
      "601.0\n",
      "592.0\n",
      "595.0\n",
      "595.0\n",
      "397,700\n",
      "2022/04/11\n",
      "586.0\n",
      "597.0\n",
      "586.0\n",
      "593.0\n",
      "593.0\n",
      "529,500\n",
      "2022/04/08\n",
      "577.0\n",
      "584.0\n",
      "575.0\n",
      "583.0\n",
      "583.0\n",
      "633,700\n",
      "2022/04/07\n",
      "575.0\n",
      "582.0\n",
      "570.0\n",
      "582.0\n",
      "582.0\n",
      "623,000\n",
      "2022/04/06\n",
      "589.0\n",
      "592.0\n",
      "580.0\n",
      "582.0\n",
      "582.0\n",
      "546,200\n",
      "2022/04/05\n",
      "599.0\n",
      "599.0\n",
      "587.0\n",
      "590.0\n",
      "590.0\n",
      "628,900\n",
      "2022/04/04\n",
      "594.0\n",
      "600.0\n",
      "588.0\n",
      "594.0\n",
      "594.0\n",
      "477,900\n",
      "2022/04/01\n",
      "585.0\n",
      "601.0\n",
      "583.0\n",
      "598.0\n",
      "598.0\n",
      "742,100\n",
      "2022/03/31\n",
      "608.0\n",
      "611.0\n",
      "598.0\n",
      "600.0\n",
      "600.0\n",
      "660,500\n",
      "2022/03/30\n",
      "628.0\n",
      "630.0\n",
      "612.0\n",
      "618.0\n",
      "618.0\n",
      "953,800\n",
      "2022/03/29\n",
      "640.0\n",
      "641.0\n",
      "635.0\n",
      "638.0\n",
      "638.0\n",
      "1,162,600\n",
      "2022/03/28\n",
      "649.0\n",
      "649.0\n",
      "639.0\n",
      "644.0\n",
      "644.0\n",
      "750,100\n",
      "\n",
      "            \n",
      "              \n",
      "            \n",
      "          \n",
      "\n",
      "            ネット証券人気 No.1\n",
      "          \n",
      "\n",
      "            \n",
      "              \n",
      "            \n",
      "          \n",
      "\n",
      "            ポイントでお得に投資\n",
      "          \n",
      "\n",
      "            \n",
      "              \n",
      "            \n",
      "          \n",
      "\n",
      "            安心のサポート体制\n",
      "          \n",
      "\n",
      "  \n",
      "\n",
      "\n",
      "  SBI証券\n",
      "  HYPER 株アプリ\n",
      "  SBI証券の快適オールインワン株アプリ！\n",
      "\n"
     ]
    },
    {
     "data": {
      "text/plain": [
       "''"
      ]
     },
     "execution_count": 66,
     "metadata": {},
     "output_type": "execute_result"
    }
   ],
   "source": [
    "iyoginStockAverage = GetIndicator('https://s.minkabu.jp/stock/8385/daily_bar',4,'%Y/%m/%d',datetime.date.today()-datetime.timedelta(days=8))\n",
    "iyoginStockAverage"
   ]
  },
  {
   "cell_type": "code",
   "execution_count": 57,
   "id": "1ee1160e",
   "metadata": {},
   "outputs": [
    {
     "data": {
      "text/plain": [
       "'2022/04/20'"
      ]
     },
     "execution_count": 57,
     "metadata": {},
     "output_type": "execute_result"
    }
   ],
   "source": [
    "fiveDaysAgo.strftime(\"%Y/%m/%d\")"
   ]
  },
  {
   "cell_type": "code",
   "execution_count": null,
   "id": "26d0ce5a",
   "metadata": {},
   "outputs": [],
   "source": []
  }
 ],
 "metadata": {
  "kernelspec": {
   "display_name": "Python 3 (ipykernel)",
   "language": "python",
   "name": "python3"
  },
  "language_info": {
   "codemirror_mode": {
    "name": "ipython",
    "version": 3
   },
   "file_extension": ".py",
   "mimetype": "text/x-python",
   "name": "python",
   "nbconvert_exporter": "python",
   "pygments_lexer": "ipython3",
   "version": "3.8.10"
  }
 },
 "nbformat": 4,
 "nbformat_minor": 5
}
