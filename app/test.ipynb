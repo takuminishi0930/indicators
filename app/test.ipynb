{
 "cells": [
  {
   "cell_type": "code",
   "execution_count": 98,
   "id": "a340c7d3",
   "metadata": {},
   "outputs": [],
   "source": [
    "import pandas\n",
    "import math"
   ]
  },
  {
   "cell_type": "code",
   "execution_count": 99,
   "id": "edd40454",
   "metadata": {},
   "outputs": [],
   "source": [
    "a=pandas.read_csv('static/csv/indicators.csv',index_col=0)"
   ]
  },
  {
   "cell_type": "code",
   "execution_count": 100,
   "id": "1bbaeb31",
   "metadata": {},
   "outputs": [
    {
     "data": {
      "text/plain": [
       "日経平均        29794.370\n",
       "当行株価          582.000\n",
       "NYダウ        36432.220\n",
       "日本国債10年         0.105\n",
       "米国国債10年         1.680\n",
       "WTI先物期近物       84.650\n",
       "dtype: float64"
      ]
     },
     "execution_count": 100,
     "metadata": {},
     "output_type": "execute_result"
    }
   ],
   "source": [
    "a.max()"
   ]
  },
  {
   "cell_type": "code",
   "execution_count": 101,
   "id": "a321f6c7",
   "metadata": {},
   "outputs": [
    {
     "data": {
      "text/plain": [
       "日経平均        28140.280\n",
       "当行株価          554.000\n",
       "NYダウ        34377.810\n",
       "日本国債10年         0.055\n",
       "米国国債10年         1.450\n",
       "WTI先物期近物       78.810\n",
       "dtype: float64"
      ]
     },
     "execution_count": 101,
     "metadata": {},
     "output_type": "execute_result"
    }
   ],
   "source": [
    "a.min()"
   ]
  },
  {
   "cell_type": "code",
   "execution_count": 102,
   "id": "9f59643e",
   "metadata": {},
   "outputs": [
    {
     "name": "stdout",
     "output_type": "stream",
     "text": [
      "114.43\n",
      "112.86\n"
     ]
    }
   ],
   "source": [
    "tempDollarYen=[float(i[:4]+i[-2:]) for i in a.fillna('a')['対米ドル'] if len(i)==9]\n",
    "print(max(tempDollarYen))\n",
    "print(min(tempDollarYen))"
   ]
  },
  {
   "cell_type": "code",
   "execution_count": null,
   "id": "b24978ca",
   "metadata": {},
   "outputs": [],
   "source": []
  }
 ],
 "metadata": {
  "kernelspec": {
   "display_name": "Python 3 (ipykernel)",
   "language": "python",
   "name": "python3"
  },
  "language_info": {
   "codemirror_mode": {
    "name": "ipython",
    "version": 3
   },
   "file_extension": ".py",
   "mimetype": "text/x-python",
   "name": "python",
   "nbconvert_exporter": "python",
   "pygments_lexer": "ipython3",
   "version": "3.8.10"
  }
 },
 "nbformat": 4,
 "nbformat_minor": 5
}
