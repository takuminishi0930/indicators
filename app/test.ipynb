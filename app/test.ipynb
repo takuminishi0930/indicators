{
 "cells": [
  {
   "cell_type": "code",
   "execution_count": 127,
   "id": "b3d142fc",
   "metadata": {},
   "outputs": [],
   "source": [
    "import pandas as pd\n",
    "import math"
   ]
  },
  {
   "cell_type": "code",
   "execution_count": 129,
   "id": "9d446c5f",
   "metadata": {},
   "outputs": [],
   "source": [
    "df = pd.read_csv('static/csv/indicators.csv', encoding=\"utf-8\", na_filter=False)"
   ]
  },
  {
   "cell_type": "code",
   "execution_count": 130,
   "id": "25fbafd4",
   "metadata": {},
   "outputs": [
    {
     "data": {
      "text/plain": [
       "['2021-11-10',\n",
       " '29794.37',\n",
       " '582',\n",
       " '36432.22',\n",
       " '114.43',\n",
       " '132.95',\n",
       " '0.105',\n",
       " '1.68',\n",
       " '84.65']"
      ]
     },
     "execution_count": 130,
     "metadata": {},
     "output_type": "execute_result"
    }
   ],
   "source": [
    "list(df.max())"
   ]
  },
  {
   "cell_type": "code",
   "execution_count": 133,
   "id": "c2e80e67",
   "metadata": {},
   "outputs": [
    {
     "data": {
      "text/plain": [
       "['2021-10-11', '', '', '', '', '', '', '', '']"
      ]
     },
     "execution_count": 133,
     "metadata": {},
     "output_type": "execute_result"
    }
   ],
   "source": [
    "list(df.min(skipna=True))"
   ]
  },
  {
   "cell_type": "code",
   "execution_count": 108,
   "id": "1af26279",
   "metadata": {},
   "outputs": [
    {
     "data": {
      "text/plain": [
       "29794.37"
      ]
     },
     "execution_count": 108,
     "metadata": {},
     "output_type": "execute_result"
    }
   ],
   "source": [
    "a.max()[0]"
   ]
  },
  {
   "cell_type": "code",
   "execution_count": 125,
   "id": "198d45fa",
   "metadata": {},
   "outputs": [
    {
     "data": {
      "text/plain": [
       "True"
      ]
     },
     "execution_count": 125,
     "metadata": {},
     "output_type": "execute_result"
    }
   ],
   "source": [
    "554 in list(a.min())"
   ]
  },
  {
   "cell_type": "code",
   "execution_count": null,
   "id": "d7f86944",
   "metadata": {},
   "outputs": [],
   "source": []
  }
 ],
 "metadata": {
  "kernelspec": {
   "display_name": "Python 3 (ipykernel)",
   "language": "python",
   "name": "python3"
  },
  "language_info": {
   "codemirror_mode": {
    "name": "ipython",
    "version": 3
   },
   "file_extension": ".py",
   "mimetype": "text/x-python",
   "name": "python",
   "nbconvert_exporter": "python",
   "pygments_lexer": "ipython3",
   "version": "3.8.10"
  }
 },
 "nbformat": 4,
 "nbformat_minor": 5
}
