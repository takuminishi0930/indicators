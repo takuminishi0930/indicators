{
 "cells": [
  {
   "cell_type": "code",
   "execution_count": 104,
   "id": "c2f90471",
   "metadata": {},
   "outputs": [],
   "source": [
    "import pandas\n",
    "import math"
   ]
  },
  {
   "cell_type": "code",
   "execution_count": 105,
   "id": "23d2542b",
   "metadata": {},
   "outputs": [],
   "source": [
    "a=pandas.read_csv('static/csv/indicators.csv',index_col=0)"
   ]
  },
  {
   "cell_type": "code",
   "execution_count": 120,
   "id": "6c7519cf",
   "metadata": {},
   "outputs": [
    {
     "data": {
      "text/plain": [
       "[29794.37, 582.0, 36432.22, 114.43, 132.95, 0.105, 1.68, 84.65]"
      ]
     },
     "execution_count": 120,
     "metadata": {},
     "output_type": "execute_result"
    }
   ],
   "source": [
    "list(a.max())"
   ]
  },
  {
   "cell_type": "code",
   "execution_count": 107,
   "id": "c4525722",
   "metadata": {},
   "outputs": [
    {
     "data": {
      "text/plain": [
       "日経平均        28140.280\n",
       "当行株価          554.000\n",
       "NYダウ        34377.810\n",
       "対米ドル          112.860\n",
       "対ユーロ          130.870\n",
       "日本国債10年         0.055\n",
       "米国国債10年         1.450\n",
       "WTI先物期近物       78.810\n",
       "dtype: float64"
      ]
     },
     "execution_count": 107,
     "metadata": {},
     "output_type": "execute_result"
    }
   ],
   "source": [
    "a.min()"
   ]
  },
  {
   "cell_type": "code",
   "execution_count": 108,
   "id": "0d23577e",
   "metadata": {},
   "outputs": [
    {
     "data": {
      "text/plain": [
       "29794.37"
      ]
     },
     "execution_count": 108,
     "metadata": {},
     "output_type": "execute_result"
    }
   ],
   "source": [
    "a.max()[0]"
   ]
  },
  {
   "cell_type": "code",
   "execution_count": 125,
   "id": "cdf7fe14",
   "metadata": {},
   "outputs": [
    {
     "data": {
      "text/plain": [
       "True"
      ]
     },
     "execution_count": 125,
     "metadata": {},
     "output_type": "execute_result"
    }
   ],
   "source": [
    "554 in list(a.min())"
   ]
  },
  {
   "cell_type": "code",
   "execution_count": null,
   "id": "b020f69d",
   "metadata": {},
   "outputs": [],
   "source": []
  }
 ],
 "metadata": {
  "kernelspec": {
   "display_name": "Python 3 (ipykernel)",
   "language": "python",
   "name": "python3"
  },
  "language_info": {
   "codemirror_mode": {
    "name": "ipython",
    "version": 3
   },
   "file_extension": ".py",
   "mimetype": "text/x-python",
   "name": "python",
   "nbconvert_exporter": "python",
   "pygments_lexer": "ipython3",
   "version": "3.8.10"
  }
 },
 "nbformat": 4,
 "nbformat_minor": 5
}
