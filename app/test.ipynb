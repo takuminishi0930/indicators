{
 "cells": [
  {
   "cell_type": "code",
   "execution_count": 50,
   "id": "20157716",
   "metadata": {},
   "outputs": [],
   "source": [
    "import pandas\n",
    "import math"
   ]
  },
  {
   "cell_type": "code",
   "execution_count": 91,
   "id": "eeaac989",
   "metadata": {},
   "outputs": [],
   "source": [
    "a=pandas.read_csv('static/csv/indicators.csv',index_col=0)"
   ]
  },
  {
   "cell_type": "code",
   "execution_count": 92,
   "id": "67cd59d2",
   "metadata": {},
   "outputs": [
    {
     "data": {
      "text/plain": [
       "日経平均        29794.370\n",
       "当行株価          582.000\n",
       "NYダウ        36157.580\n",
       "日本国債10年         0.105\n",
       "米国国債10年         1.680\n",
       "WTI先物期近物       84.650\n",
       "dtype: float64"
      ]
     },
     "execution_count": 92,
     "metadata": {},
     "output_type": "execute_result"
    }
   ],
   "source": [
    "a.max()"
   ]
  },
  {
   "cell_type": "code",
   "execution_count": 93,
   "id": "b143af13",
   "metadata": {},
   "outputs": [
    {
     "data": {
      "text/plain": [
       "日経平均        28140.28\n",
       "当行株価          554.00\n",
       "NYダウ        34377.81\n",
       "日本国債10年         0.07\n",
       "米国国債10年         1.52\n",
       "WTI先物期近物       78.81\n",
       "dtype: float64"
      ]
     },
     "execution_count": 93,
     "metadata": {},
     "output_type": "execute_result"
    }
   ],
   "source": [
    "a.min()"
   ]
  },
  {
   "cell_type": "code",
   "execution_count": 95,
   "id": "be729d70",
   "metadata": {},
   "outputs": [
    {
     "name": "stdout",
     "output_type": "stream",
     "text": [
      "114.43\n",
      "113.3\n"
     ]
    }
   ],
   "source": [
    "tempDollarYen=[float(i[:4]+i[-2:]) for i in a.fillna('a')['対米ドル'] if len(i)==9]\n",
    "print(max(tempDollarYen))\n",
    "print(min(tempDollarYen))"
   ]
  },
  {
   "cell_type": "code",
   "execution_count": null,
   "id": "4221bbcd",
   "metadata": {},
   "outputs": [],
   "source": []
  }
 ],
 "metadata": {
  "kernelspec": {
   "display_name": "Python 3 (ipykernel)",
   "language": "python",
   "name": "python3"
  },
  "language_info": {
   "codemirror_mode": {
    "name": "ipython",
    "version": 3
   },
   "file_extension": ".py",
   "mimetype": "text/x-python",
   "name": "python",
   "nbconvert_exporter": "python",
   "pygments_lexer": "ipython3",
   "version": "3.8.10"
  }
 },
 "nbformat": 4,
 "nbformat_minor": 5
}
